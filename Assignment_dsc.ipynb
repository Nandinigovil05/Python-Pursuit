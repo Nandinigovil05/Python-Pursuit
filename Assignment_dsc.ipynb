{
 "cells": [
  {
   "cell_type": "code",
   "execution_count": 3,
   "metadata": {},
   "outputs": [],
   "source": [
    "# Q1.  Program to input 3 numbers from the user and print their sum "
   ]
  },
  {
   "cell_type": "code",
   "execution_count": 7,
   "metadata": {},
   "outputs": [
    {
     "name": "stdout",
     "output_type": "stream",
     "text": [
      "2\n",
      "5\n",
      "8\n",
      "\n",
      "15\n"
     ]
    }
   ],
   "source": [
    "a=int(input())\n",
    "b=int(input())\n",
    "c=int(input())\n",
    "sum = a+b+c\n",
    "print()\n",
    "print(sum)"
   ]
  },
  {
   "cell_type": "code",
   "execution_count": 4,
   "metadata": {},
   "outputs": [],
   "source": [
    "# Q2. Program to check if the number entered by the user is prime or not  "
   ]
  },
  {
   "cell_type": "code",
   "execution_count": 8,
   "metadata": {},
   "outputs": [
    {
     "name": "stdout",
     "output_type": "stream",
     "text": [
      "14\n",
      "No\n"
     ]
    }
   ],
   "source": [
    "'''Test case-1'''\n",
    "a=int(input())\n",
    "\n",
    "for i in range(2,a):\n",
    "    if a%i == 0 :\n",
    "        print('No')\n",
    "        break\n",
    "else:\n",
    "    print('Yes')"
   ]
  },
  {
   "cell_type": "code",
   "execution_count": 1,
   "metadata": {},
   "outputs": [
    {
     "name": "stdout",
     "output_type": "stream",
     "text": [
      "2\n",
      "Yes\n"
     ]
    }
   ],
   "source": [
    "'''Test case-2'''\n",
    "a=int(input())\n",
    "\n",
    "for i in range(2,a):\n",
    "    if a%i == 0 :\n",
    "        print('No')\n",
    "        break\n",
    "else:\n",
    "    print('Yes')"
   ]
  },
  {
   "cell_type": "code",
   "execution_count": 3,
   "metadata": {},
   "outputs": [
    {
     "name": "stdout",
     "output_type": "stream",
     "text": [
      "11\n",
      "Yes\n"
     ]
    }
   ],
   "source": [
    "'''Test case-3'''\n",
    "a=int(input())\n",
    "\n",
    "for i in range(2,a):\n",
    "    if a%i == 0 :\n",
    "        print('No')\n",
    "        break\n",
    "else:\n",
    "    print('Yes')"
   ]
  },
  {
   "cell_type": "code",
   "execution_count": 4,
   "metadata": {},
   "outputs": [],
   "source": [
    "# Q3. What will be the output produced by the 3 expressions of the following code?  \n",
    "\n",
    "# a=5 b=-3 c=25 d=-10  \n",
    "# ● a + b + c > a + c - b * d \n",
    "# ● str(a + b + c > a + c - b * d) == ’true’ \n",
    "# ● len(str(a + b + c > a + c - b * d)) == len(str(bool(1)))"
   ]
  },
  {
   "cell_type": "code",
   "execution_count": 5,
   "metadata": {},
   "outputs": [
    {
     "name": "stdout",
     "output_type": "stream",
     "text": [
      "True\n",
      "False\n",
      "True\n"
     ]
    }
   ],
   "source": [
    "a = 5 \n",
    "b = -3 \n",
    "c = 25 \n",
    "d = -10 \n",
    "\n",
    "print(a + b + c > a + c - b * d)\n",
    "# a+b+c = 27\n",
    "# a+c-b*d = 0\n",
    "\n",
    "print( str(a + b + c > a + c - b * d) == 'true' ) \n",
    "# True != true, as T should be capital.\n",
    "\n",
    "print(len(str(a + b + c > a + c - b * d)) == len(str(bool(1))) )\n",
    "# bool(1) = True\n",
    "#  str(bool(1)) = 'True'\n",
    "# len(str(bool(1))) = 4\n"
   ]
  },
  {
   "cell_type": "code",
   "execution_count": 6,
   "metadata": {},
   "outputs": [],
   "source": [
    "# Q4. Program to print factorial of the number entered by the use"
   ]
  },
  {
   "cell_type": "code",
   "execution_count": 7,
   "metadata": {},
   "outputs": [
    {
     "name": "stdout",
     "output_type": "stream",
     "text": [
      "5\n",
      "120\n"
     ]
    }
   ],
   "source": [
    "'''Test case-1'''\n",
    "a = int(input())\n",
    "temp = 1\n",
    "for i in range(1,a+1):\n",
    "    temp = temp * i\n",
    "    \n",
    "print(temp)\n"
   ]
  },
  {
   "cell_type": "code",
   "execution_count": 8,
   "metadata": {},
   "outputs": [
    {
     "name": "stdout",
     "output_type": "stream",
     "text": [
      "0\n",
      "1\n"
     ]
    }
   ],
   "source": [
    "'''Test case-2'''\n",
    "a = int(input())\n",
    "temp = 1\n",
    "for i in range(1,a+1):\n",
    "    temp = temp * i\n",
    "    \n",
    "print(temp)\n"
   ]
  },
  {
   "cell_type": "code",
   "execution_count": 9,
   "metadata": {},
   "outputs": [],
   "source": [
    "# Q5. Program to print the following pattern:  \n",
    "#      *  \n",
    "#     * * \n",
    "#    * * * \n",
    "#     * *\n",
    "#      * "
   ]
  },
  {
   "cell_type": "code",
   "execution_count": 10,
   "metadata": {},
   "outputs": [
    {
     "name": "stdout",
     "output_type": "stream",
     "text": [
      "  * \n",
      " * * \n",
      "* * *\n",
      " * * \n",
      "  * \n"
     ]
    }
   ],
   "source": [
    "print('  * ')\n",
    "print(' * * ')\n",
    "print('* * *')\n",
    "print(' * * ')\n",
    "print('  * ')\n",
    "    "
   ]
  },
  {
   "cell_type": "code",
   "execution_count": null,
   "metadata": {},
   "outputs": [],
   "source": []
  }
 ],
 "metadata": {
  "kernelspec": {
   "display_name": "Python 3",
   "language": "python",
   "name": "python3"
  },
  "language_info": {
   "codemirror_mode": {
    "name": "ipython",
    "version": 3
   },
   "file_extension": ".py",
   "mimetype": "text/x-python",
   "name": "python",
   "nbconvert_exporter": "python",
   "pygments_lexer": "ipython3",
   "version": "3.7.0"
  }
 },
 "nbformat": 4,
 "nbformat_minor": 2
}
